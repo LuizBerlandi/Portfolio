{
 "cells": [
  {
   "cell_type": "markdown",
   "id": "ce2cb678-81d1-4317-a8eb-1fd0816adfde",
   "metadata": {},
   "source": [
    "## Luiz Berlandi| Finanças | ETFs x Fundos mútuos\n",
    "\n",
    "### Introdução\n",
    "\n",
    "O objetivo desse projeto é analisar o mercado financeiro e extrair informaçÕes importantes sobre fundos de investimentos tradicionais e ETFs, a diferença de tendência, preço e volume de negociações."
   ]
  },
  {
   "cell_type": "markdown",
   "id": "aa9f30a2-6005-4a0c-8693-29d128badfa8",
   "metadata": {},
   "source": [
    "### Inciando a exportação de algumas das principais bibliotecas que iremos utilizar"
   ]
  },
  {
   "cell_type": "code",
   "execution_count": 2,
   "id": "2980b219-d2c5-4329-9e97-274073cfbc1e",
   "metadata": {},
   "outputs": [
    {
     "name": "stdout",
     "output_type": "stream",
     "text": [
      "Collecting matplotlibNote: you may need to restart the kernel to use updated packages.\n",
      "\n",
      "  Downloading matplotlib-3.10.0-cp311-cp311-win_amd64.whl (8.0 MB)\n",
      "                                              0.0/8.0 MB ? eta -:--:--\n",
      "     -                                        0.4/8.0 MB 12.6 MB/s eta 0:00:01\n",
      "     -----                                    1.1/8.0 MB 12.2 MB/s eta 0:00:01\n",
      "     ---------                                2.0/8.0 MB 15.7 MB/s eta 0:00:01\n",
      "     ------------                             2.5/8.0 MB 14.4 MB/s eta 0:00:01\n",
      "     ------------------                       3.7/8.0 MB 17.1 MB/s eta 0:00:01\n",
      "     -------------------------                5.0/8.0 MB 19.0 MB/s eta 0:00:01\n",
      "     ----------------------------             5.8/8.0 MB 18.5 MB/s eta 0:00:01\n",
      "     --------------------------------         6.5/8.0 MB 18.2 MB/s eta 0:00:01\n",
      "     --------------------------------------   7.8/8.0 MB 19.1 MB/s eta 0:00:01\n",
      "     ---------------------------------------- 8.0/8.0 MB 17.7 MB/s eta 0:00:00\n",
      "Collecting contourpy>=1.0.1 (from matplotlib)\n",
      "  Downloading contourpy-1.3.1-cp311-cp311-win_amd64.whl (219 kB)\n",
      "                                              0.0/219.8 kB ? eta -:--:--\n",
      "     ------------------------------------- 219.8/219.8 kB 14.0 MB/s eta 0:00:00\n",
      "Collecting cycler>=0.10 (from matplotlib)\n",
      "  Downloading cycler-0.12.1-py3-none-any.whl (8.3 kB)\n",
      "Collecting fonttools>=4.22.0 (from matplotlib)\n",
      "  Downloading fonttools-4.55.3-cp311-cp311-win_amd64.whl (2.2 MB)\n",
      "                                              0.0/2.2 MB ? eta -:--:--\n",
      "     ------------                             0.7/2.2 MB 22.1 MB/s eta 0:00:01\n",
      "     --------------------------               1.5/2.2 MB 15.5 MB/s eta 0:00:01\n",
      "     ---------------------------------------  2.2/2.2 MB 17.6 MB/s eta 0:00:01\n",
      "     ---------------------------------------- 2.2/2.2 MB 15.7 MB/s eta 0:00:00\n",
      "Collecting kiwisolver>=1.3.1 (from matplotlib)\n",
      "  Downloading kiwisolver-1.4.8-cp311-cp311-win_amd64.whl (71 kB)\n",
      "                                              0.0/72.0 kB ? eta -:--:--\n",
      "     ---------------------------------------- 72.0/72.0 kB ? eta 0:00:00\n",
      "Collecting numpy>=1.23 (from matplotlib)\n",
      "  Downloading numpy-2.2.1-cp311-cp311-win_amd64.whl (12.9 MB)\n",
      "                                              0.0/12.9 MB ? eta -:--:--\n",
      "     ----                                     1.5/12.9 MB 49.2 MB/s eta 0:00:01\n",
      "     --------                                 2.8/12.9 MB 36.4 MB/s eta 0:00:01\n",
      "     ------------                             4.1/12.9 MB 32.8 MB/s eta 0:00:01\n",
      "     ---------------                          5.1/12.9 MB 29.7 MB/s eta 0:00:01\n",
      "     -------------------                      6.2/12.9 MB 28.4 MB/s eta 0:00:01\n",
      "     ----------------------                   7.2/12.9 MB 27.0 MB/s eta 0:00:01\n",
      "     --------------------------               8.7/12.9 MB 25.2 MB/s eta 0:00:01\n",
      "     ------------------------------           9.8/12.9 MB 25.0 MB/s eta 0:00:01\n",
      "     ------------------------------          10.3/12.9 MB 23.4 MB/s eta 0:00:01\n",
      "     ----------------------------------      11.5/12.9 MB 22.6 MB/s eta 0:00:01\n",
      "     --------------------------------------  12.8/12.9 MB 22.6 MB/s eta 0:00:01\n",
      "     --------------------------------------  12.9/12.9 MB 22.6 MB/s eta 0:00:01\n",
      "     --------------------------------------- 12.9/12.9 MB 20.4 MB/s eta 0:00:00\n",
      "Requirement already satisfied: packaging>=20.0 in c:\\users\\luizb\\appdata\\local\\programs\\python\\python311\\lib\\site-packages (from matplotlib) (24.2)\n",
      "Collecting pillow>=8 (from matplotlib)\n",
      "  Downloading pillow-11.0.0-cp311-cp311-win_amd64.whl (2.6 MB)\n",
      "                                              0.0/2.6 MB ? eta -:--:--\n",
      "     ---------------------                    1.4/2.6 MB 43.3 MB/s eta 0:00:01\n",
      "     ---------------------------------------  2.5/2.6 MB 32.6 MB/s eta 0:00:01\n",
      "     ---------------------------------------- 2.6/2.6 MB 27.2 MB/s eta 0:00:00\n",
      "Collecting pyparsing>=2.3.1 (from matplotlib)\n",
      "  Downloading pyparsing-3.2.0-py3-none-any.whl (106 kB)\n",
      "                                              0.0/106.9 kB ? eta -:--:--\n",
      "     ---------------------------------------- 106.9/106.9 kB ? eta 0:00:00\n",
      "Requirement already satisfied: python-dateutil>=2.7 in c:\\users\\luizb\\appdata\\local\\programs\\python\\python311\\lib\\site-packages (from matplotlib) (2.9.0.post0)\n",
      "Requirement already satisfied: six>=1.5 in c:\\users\\luizb\\appdata\\local\\programs\\python\\python311\\lib\\site-packages (from python-dateutil>=2.7->matplotlib) (1.17.0)\n",
      "Installing collected packages: pyparsing, pillow, numpy, kiwisolver, fonttools, cycler, contourpy, matplotlib\n",
      "Successfully installed contourpy-1.3.1 cycler-0.12.1 fonttools-4.55.3 kiwisolver-1.4.8 matplotlib-3.10.0 numpy-2.2.1 pillow-11.0.0 pyparsing-3.2.0\n"
     ]
    },
    {
     "name": "stderr",
     "output_type": "stream",
     "text": [
      "\n",
      "[notice] A new release of pip is available: 23.1.2 -> 24.3.1\n",
      "[notice] To update, run: python.exe -m pip install --upgrade pip\n"
     ]
    },
    {
     "ename": "ModuleNotFoundError",
     "evalue": "No module named 'sklearn'",
     "output_type": "error",
     "traceback": [
      "\u001b[1;31m---------------------------------------------------------------------------\u001b[0m",
      "\u001b[1;31mModuleNotFoundError\u001b[0m                       Traceback (most recent call last)",
      "Cell \u001b[1;32mIn[2], line 3\u001b[0m\n\u001b[0;32m      1\u001b[0m get_ipython()\u001b[38;5;241m.\u001b[39mrun_line_magic(\u001b[38;5;124m'\u001b[39m\u001b[38;5;124mpip\u001b[39m\u001b[38;5;124m'\u001b[39m, \u001b[38;5;124m'\u001b[39m\u001b[38;5;124minstall matplotlib\u001b[39m\u001b[38;5;124m'\u001b[39m)\n\u001b[0;32m      2\u001b[0m \u001b[38;5;28;01mfrom\u001b[39;00m \u001b[38;5;21;01mmpl_toolkits\u001b[39;00m\u001b[38;5;21;01m.\u001b[39;00m\u001b[38;5;21;01mmplot3d\u001b[39;00m \u001b[38;5;28;01mimport\u001b[39;00m Axes3D\n\u001b[1;32m----> 3\u001b[0m \u001b[38;5;28;01mfrom\u001b[39;00m \u001b[38;5;21;01msklearn\u001b[39;00m\u001b[38;5;21;01m.\u001b[39;00m\u001b[38;5;21;01mpreprocessing\u001b[39;00m \u001b[38;5;28;01mimport\u001b[39;00m StandardScaler\n\u001b[0;32m      4\u001b[0m \u001b[38;5;28;01mimport\u001b[39;00m \u001b[38;5;21;01mmatplotlib\u001b[39;00m\u001b[38;5;21;01m.\u001b[39;00m\u001b[38;5;21;01mpyplot\u001b[39;00m \u001b[38;5;28;01mas\u001b[39;00m \u001b[38;5;21;01mplt\u001b[39;00m \u001b[38;5;66;03m# plotting\u001b[39;00m\n\u001b[0;32m      5\u001b[0m \u001b[38;5;28;01mimport\u001b[39;00m \u001b[38;5;21;01mnumpy\u001b[39;00m \u001b[38;5;28;01mas\u001b[39;00m \u001b[38;5;21;01mnp\u001b[39;00m \u001b[38;5;66;03m# Algebra linear\u001b[39;00m\n",
      "\u001b[1;31mModuleNotFoundError\u001b[0m: No module named 'sklearn'"
     ]
    }
   ],
   "source": [
    "%pip install matplotlib\n",
    "from mpl_toolkits.mplot3d import Axes3D\n",
    "from sklearn.preprocessing import StandardScaler\n",
    "import matplotlib.pyplot as plt # plotting\n",
    "import numpy as np # Algebra linear\n",
    "import os # acesssando a estrutura dos diretórios\n",
    "import pandas as pd # processamento de dados"
   ]
  }
 ],
 "metadata": {
  "kernelspec": {
   "display_name": "Python 3 (ipykernel)",
   "language": "python",
   "name": "python3"
  },
  "language_info": {
   "codemirror_mode": {
    "name": "ipython",
    "version": 3
   },
   "file_extension": ".py",
   "mimetype": "text/x-python",
   "name": "python",
   "nbconvert_exporter": "python",
   "pygments_lexer": "ipython3",
   "version": "3.11.4"
  }
 },
 "nbformat": 4,
 "nbformat_minor": 5
}
